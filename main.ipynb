{
 "cells": [
  {
   "cell_type": "code",
   "execution_count": null,
   "id": "d769d481",
   "metadata": {
    "vscode": {
     "languageId": "plaintext"
    }
   },
   "outputs": [],
   "source": [
    "import warnings\n",
    "import os\n",
    "\n",
    "from kindergarten.core import Kindergarten\n",
    "from plotly.express import data\n",
    "\n",
    "os.environ[\"JUPYTER_DASH_INFER_JUPYTER_PROXY_URL\"] = \"true\"\n",
    "warnings.filterwarnings(\"ignore\", message=\".*@plotly/dash-jupyterlab.*\")\n",
    "\n",
    "app = Kindergarten()\n",
    "app.df = data.tips()\n",
    "\n",
    "app.app.run_server(mode=\"inline\", use_reloader=False)\n"
   ]
  }
 ],
 "metadata": {
  "language_info": {
   "name": "python"
  }
 },
 "nbformat": 4,
 "nbformat_minor": 5
}
