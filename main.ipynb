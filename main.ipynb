{
 "cells": [
  {
   "cell_type": "code",
   "execution_count": null,
   "id": "d769d481",
   "metadata": {
    "vscode": {
     "languageId": "plaintext"
    }
   },
   "outputs": [],
   "source": [
    "!pip install --quiet \\\n",
    "    kindergarten>=0.2.0 \\\n",
    "    plotly>=5.22.0 \\\n",
    "    dash==2.15.0 \\\n",
    "    jupyter-dash==0.4.2\n",
    "\n",
    "import warnings\n",
    "\n",
    "from kindergarten import plot\n",
    "from plotly.express import data\n",
    "\n",
    "\n",
    "# suppress JupyterDash deprecation warning\n",
    "warnings.filterwarnings(\n",
    "    \"ignore\",\n",
    "    message=\".*JupyterDash is deprecated.*\",\n",
    "    category=UserWarning,\n",
    "    module=\"dash\\\\.dash\"\n",
    ")\n",
    "\n",
    "# load datasets\n",
    "carshare = data.carshare()\n",
    "election = data.election()\n",
    "election_geojson = data.election_geojson()\n",
    "experiment = data.experiment()\n",
    "gapminder = data.gapminder()\n",
    "iris = data.iris()\n",
    "medals_long = data.medals_long()\n",
    "medals_wide = data.medals_wide()\n",
    "stocks = data.stocks()\n",
    "tips = data.tips()\n",
    "wind = data.wind()\n",
    "\n",
    "# launch plotting interface\n",
    "plot()\n"
   ]
  }
 ],
 "metadata": {
  "language_info": {
   "name": "python"
  }
 },
 "nbformat": 4,
 "nbformat_minor": 5
}
