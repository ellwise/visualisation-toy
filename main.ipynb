{
 "cells": [
  {
   "cell_type": "code",
   "execution_count": null,
   "id": "d769d481",
   "metadata": {
    "vscode": {
     "languageId": "plaintext"
    }
   },
   "outputs": [],
   "source": [
    "!pip install --quiet \\\n",
    "    kindergarten>=0.2.0 \\\n",
    "    plotly>=5.22.0 \\\n",
    "    dash==2.15.0 \\\n",
    "    jupyter-dash==0.4.2\n",
    "\n",
    "\n",
    "from kindergarten import plot\n",
    "from plotly.express import data\n",
    "\n",
    "tips = data.tips()\n",
    "carshare = data.carshare()\n",
    "election = data.election()\n",
    "election_geojson = data.election_geojson()\n",
    "experiment = data.experiment()\n",
    "gapminder = data.gapminder()\n",
    "iris = data.iris()\n",
    "medals_long = data.medals_long()\n",
    "medals_wide = data.medals_wide()\n",
    "stocks = data.stocks()\n",
    "tips = data.tips()\n",
    "wind = data.wind()\n"
   ]
  },
  {
   "cell_type": "code",
   "execution_count": null,
   "id": "2b889844",
   "metadata": {
    "vscode": {
     "languageId": "plaintext"
    }
   },
   "outputs": [],
   "source": [
    "_ = plot()"
   ]
  }
 ],
 "metadata": {
  "language_info": {
   "name": "python"
  }
 },
 "nbformat": 4,
 "nbformat_minor": 5
}
