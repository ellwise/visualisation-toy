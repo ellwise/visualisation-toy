{
 "cells": [
  {
   "cell_type": "code",
   "execution_count": null,
   "id": "d769d481",
   "metadata": {
    "vscode": {
     "languageId": "plaintext"
    }
   },
   "outputs": [],
   "source": [
    "!pip install --quiet kindergarten \"dash<3.0\"\n",
    "\n",
    "\n",
    "import re\n",
    "import warnings\n",
    "from random import randint\n",
    "\n",
    "from IPython.display import Javascript, display\n",
    "from IPython.utils.capture import capture_output\n",
    "from kindergarten import plot\n",
    "from plotly.express import data\n",
    "\n",
    "\n",
    "# suppress JupyterDash deprecation warning\n",
    "warnings.filterwarnings(\n",
    "    \"ignore\",\n",
    "    message=\".*JupyterDash is deprecated.*\",\n",
    "    category=UserWarning,\n",
    "    module=\"dash\\\\.dash\"\n",
    ")\n",
    "\n",
    "# load datasets\n",
    "carshare = data.carshare()\n",
    "election = data.election()\n",
    "election_geojson = data.election_geojson()\n",
    "experiment = data.experiment()\n",
    "gapminder = data.gapminder()\n",
    "iris = data.iris()\n",
    "medals_long = data.medals_long()\n",
    "medals_wide = data.medals_wide()\n",
    "stocks = data.stocks()\n",
    "tips = data.tips()\n",
    "wind = data.wind()\n",
    "\n",
    "# launch plotting interface\n",
    "with capture_output() as captured:\n",
    "    plot()\n",
    "    data = captured.outputs[0].data\n",
    "\n",
    "    # extract the url it's being served from\n",
    "    original = data[\"application/javascript\"]\n",
    "    clean = re.sub(\n",
    "        r\"const iframe =[\\s\\S]*?element\\.appendChild\\(iframe\\);\",\n",
    "        \"\"\"\n",
    "            const link = document.createElement(\"a\");\n",
    "            link.href = url;\n",
    "            link.textContent = url;\n",
    "            link.target = \"_blank\";\n",
    "            element.appendChild(link);\n",
    "        \"\"\",\n",
    "        original,\n",
    "        flags=re.DOTALL\n",
    "    )\n",
    "\n",
    "Javascript(clean)\n"
   ]
  }
 ],
 "metadata": {
  "kernelspec": {
   "display_name": "Python 3",
   "name": "python3"
  },
  "language_info": {
   "name": "python"
  }
 },
 "nbformat": 4,
 "nbformat_minor": 5
}
