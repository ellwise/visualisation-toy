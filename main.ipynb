{
 "cells": [
  {
   "cell_type": "code",
   "execution_count": null,
   "id": "d769d481",
   "metadata": {
    "vscode": {
     "languageId": "plaintext"
    }
   },
   "outputs": [],
   "source": [
    "import warnings\n",
    "\n",
    "from kindergarten import plot\n",
    "import plotly.express as px\n",
    "\n",
    "\n",
    "warnings.filterwarnings(\"ignore\", message=\".*@plotly/dash-jupyterlab.*\")\n",
    "\n",
    "px.data.tips()\n",
    "plot()"
   ]
  }
 ],
 "metadata": {
  "language_info": {
   "name": "python"
  }
 },
 "nbformat": 4,
 "nbformat_minor": 5
}
