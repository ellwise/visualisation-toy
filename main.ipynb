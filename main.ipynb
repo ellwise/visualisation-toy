{
 "cells": [
  {
   "cell_type": "code",
   "execution_count": null,
   "id": "d769d481",
   "metadata": {
    "vscode": {
     "languageId": "plaintext"
    }
   },
   "outputs": [],
   "source": [
    "!pip install --quiet \\\n",
    "    kindergarten>=0.2.0 \\\n",
    "    plotly>=5.22.0 \\\n",
    "    dash==2.15.0 \\\n",
    "    jupyter-dash==0.4.2\n",
    "\n",
    "\n",
    "from kindergarten import plot\n",
    "from plotly.express import data\n",
    "\n",
    "tips = data.tips()\n",
    "_ = plot()\n"
   ]
  },
  {
   "cell_type": "code",
   "execution_count": null,
   "id": "2b889844",
   "metadata": {
    "vscode": {
     "languageId": "plaintext"
    }
   },
   "outputs": [],
   "source": []
  }
 ],
 "metadata": {
  "language_info": {
   "name": "python"
  }
 },
 "nbformat": 4,
 "nbformat_minor": 5
}
