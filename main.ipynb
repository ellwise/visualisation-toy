{
 "cells": [
  {
   "cell_type": "code",
   "execution_count": null,
   "id": "d769d481",
   "metadata": {
    "vscode": {
     "languageId": "plaintext"
    }
   },
   "outputs": [],
   "source": [
    "# Install required packages\n",
    "!pip install -q dash jupyter-dash pyngrok\n",
    "\n",
    "# Import packages\n",
    "from jupyter_dash import JupyterDash\n",
    "from dash import html\n",
    "from pyngrok import ngrok\n",
    "\n",
    "# Build app layout\n",
    "app = JupyterDash(__name__)\n",
    "app.layout = html.Div([\n",
    "    html.H1(\"Dash App in Google Colab via pyngrok\"),\n",
    "    html.P(\"Hello from Dash!\"),\n",
    "])\n",
    "\n",
    "# Open a public tunnel on port 8050\n",
    "public_url = ngrok.connect(8050)\n",
    "print(\"Dash app URL:\", public_url)\n",
    "\n",
    "# Run the server\n",
    "app.run_server(host=\"0.0.0.0\", port=8050)\n"
   ]
  }
 ],
 "metadata": {
  "language_info": {
   "name": "python"
  }
 },
 "nbformat": 4,
 "nbformat_minor": 5
}
