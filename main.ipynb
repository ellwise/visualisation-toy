{
 "cells": [
  {
   "cell_type": "code",
   "execution_count": null,
   "id": "d769d481",
   "metadata": {
    "vscode": {
     "languageId": "plaintext"
    }
   },
   "outputs": [],
   "source": [
    "!pip install -q colab-dash dash\n",
    "\n",
    "from colab_dash import ColabDash\n",
    "from dash import html\n",
    "\n",
    "# Start Dash app using ColabDash\n",
    "app = ColabDash(port=10000)\n",
    "\n",
    "app.layout = html.Div([\n",
    "    html.H1(\"Dash running in Colab (no ngrok)\"),\n",
    "    html.P(\"No signup, no auth tokens.\")\n",
    "])\n",
    "\n",
    "# This starts the app in the output cell with a clickable link\n",
    "app.run_app()\n"
   ]
  }
 ],
 "metadata": {
  "language_info": {
   "name": "python"
  }
 },
 "nbformat": 4,
 "nbformat_minor": 5
}
