{
 "cells": [
  {
   "cell_type": "code",
   "execution_count": null,
   "id": "d769d481",
   "metadata": {
    "vscode": {
     "languageId": "plaintext"
    }
   },
   "outputs": [],
   "source": [
    "import warnings\n",
    "\n",
    "from kindergarten.core import Kindergarten\n",
    "from plotly.express import data\n",
    "\n",
    "\n",
    "warnings.filterwarnings(\"ignore\", message=\".*@plotly/dash-jupyterlab.*\")\n",
    "\n",
    "data.tips()\n",
    "app = Kindergarten()\n",
    "app.app.run_server(mode=\"inline\", host=\"0.0.0.0\")\n"
   ]
  }
 ],
 "metadata": {
  "language_info": {
   "name": "python"
  }
 },
 "nbformat": 4,
 "nbformat_minor": 5
}
